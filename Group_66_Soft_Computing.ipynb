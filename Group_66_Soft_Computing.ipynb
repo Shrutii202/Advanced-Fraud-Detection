{
 "cells": [
  {
   "cell_type": "markdown",
   "metadata": {
    "id": "1avP8UyChDj_"
   },
   "source": [
    "**Aim of this project is to detect fraudulent transactions in financial systems.**\n",
    "\n",
    "**Dataset Information:-**\n",
    "\n",
    "\n",
    "\n",
    "*   Dataset: Transactions made by European cardholders in September 2013.\n",
    "*   Duration: Two days, with 492 frauds out of 284,807 transactions.\n",
    "*   Class Imbalance: Fraudulent transactions (positive class) account for 0.172% of all transactions.\n",
    "\n",
    "\n",
    "**Features:**\n",
    "\n",
    "*   Numerical input variables resulting from PCA transformation.\n",
    "*  'Time': Seconds elapsed between each transaction and the first transaction.\n",
    "*  'Amount': Transaction amount, suitable for cost-sensitive learning.\n",
    "\n",
    "**Target:**\n",
    "*  'Class': Response variable, 1 for fraud, 0 otherwise.\n",
    "\n",
    "\n",
    "\n",
    "\n",
    "\n",
    "\n",
    "\n",
    "\n",
    "\n",
    "\n",
    "\n",
    "\n",
    "\n",
    "\n",
    "\n",
    "\n",
    "\n",
    "\n"
   ]
  },
  {
   "cell_type": "markdown",
   "metadata": {
    "id": "L5GQok3eld4j"
   },
   "source": [
    "As dataset is highly imbalanced only accuracy can't be the factor for the good model we have to check its Recall, Precision and f1-score"
   ]
  },
  {
   "cell_type": "markdown",
   "metadata": {
    "id": "5VppOfDcmOq2"
   },
   "source": [
    "# **Below is the implementation of Credit-Card Fraud Detection System:**"
   ]
  },
  {
   "cell_type": "code",
   "execution_count": null,
   "metadata": {
    "id": "6g1vDybzlMKc"
   },
   "outputs": [],
   "source": [
    "# imports essential Python libraries for data analysis and visualization.\n",
    "import numpy as np\n",
    "import pandas as pd\n",
    "import matplotlib.pyplot as plt\n",
    "import seaborn as sns"
   ]
  },
  {
   "cell_type": "code",
   "execution_count": null,
   "metadata": {
    "colab": {
     "base_uri": "https://localhost:8080/",
     "height": 74
    },
    "id": "_tr7qeHimJfm",
    "outputId": "67e6385f-b062-4e26-92c4-a7528f85e638"
   },
   "outputs": [],
   "source": [
    "# Select and upload the creditcard.csv file\n",
    "from google.colab import files\n",
    "uploaded = files.upload()"
   ]
  },
  {
   "cell_type": "code",
   "execution_count": null,
   "metadata": {
    "id": "BOzrt5XWmJh6"
   },
   "outputs": [],
   "source": [
    "#This code reads the uploaded creditcard.csv file into a Pandas DataFrame called df.\n",
    "import pandas as pd\n",
    "df = pd.read_csv('creditcard (2).csv')\n"
   ]
  },
  {
   "cell_type": "code",
   "execution_count": null,
   "metadata": {
    "colab": {
     "base_uri": "https://localhost:8080/",
     "height": 256
    },
    "id": "lCf8V4rWmJkA",
    "outputId": "a8b70947-31d2-402e-86b7-b0ab0904ea03"
   },
   "outputs": [],
   "source": [
    "## Prints the first five rows to give a quick look at the dataset's structure and contents.\n",
    "df.head()"
   ]
  },
  {
   "cell_type": "code",
   "execution_count": null,
   "metadata": {
    "colab": {
     "base_uri": "https://localhost:8080/"
    },
    "id": "RoxHzivsmJmE",
    "outputId": "50f4926e-4883-431b-d666-687a7b4b165f"
   },
   "outputs": [],
   "source": [
    "# Display a concise summary of the DataFrame, including column names, data types, non-null counts, and memory usage\n",
    "df.info()"
   ]
  },
  {
   "cell_type": "code",
   "execution_count": null,
   "metadata": {
    "colab": {
     "base_uri": "https://localhost:8080/"
    },
    "id": "qdOqsXFzmJoa",
    "outputId": "7c374c58-7574-4cb3-aaae-d7b2230e9973"
   },
   "outputs": [],
   "source": [
    "# Print the shape of the dataset (number of rows and columns)\n",
    "print('Shape Of The Dataset', df.shape)\n",
    "\n",
    "# Print the unique class categories in the 'Class' column\n",
    "print('Class Categories', df['Class'].unique())\n",
    "\n",
    "# Print the number of records with the class value 0 in the 'Class' column\n",
    "print('Number Of Records With The Class Value 0: ', (df.Class == 0).sum())\n",
    "\n",
    "# Print the number of records with the class value 1 in the 'Class' column\n",
    "print('Number Of Records With The Class Value 1: ', (df.Class == 1).sum())"
   ]
  },
  {
   "cell_type": "code",
   "execution_count": null,
   "metadata": {
    "colab": {
     "base_uri": "https://localhost:8080/",
     "height": 428
    },
    "id": "Te28-xUSmJs2",
    "outputId": "2cc5370f-9358-4311-e129-2e276840bf51"
   },
   "outputs": [],
   "source": [
    "#Shows the proportion of each class as parts of a whole.\n",
    "counts = df['Class'].value_counts()\n",
    "labels = [f'{cls} ({count})' for cls, count in zip(counts.index, counts)]\n",
    "\n",
    "# Plot pie chart\n",
    "counts.plot.pie(labels=labels, autopct='%1.1f%%', startangle=90)\n",
    "plt.ylabel('')\n",
    "plt.title('Class Distribution')\n",
    "plt.show()"
   ]
  },
  {
   "cell_type": "code",
   "execution_count": null,
   "metadata": {
    "colab": {
     "base_uri": "https://localhost:8080/",
     "height": 1000
    },
    "id": "biwYEydEpbSN",
    "outputId": "deb2e5a7-028b-460c-c918-4d62cc571859"
   },
   "outputs": [],
   "source": [
    "#Compute the correlation of all features with the 'Class' column (fraud label), and display the first 30 correlations\n",
    "x = df.corr()['Class'][:30]\n",
    "x"
   ]
  },
  {
   "cell_type": "code",
   "execution_count": null,
   "metadata": {
    "colab": {
     "base_uri": "https://localhost:8080/",
     "height": 834
    },
    "id": "2IvOv3xtpbUT",
    "outputId": "f667df5b-9a62-4a41-dfb5-60fec2802755"
   },
   "outputs": [],
   "source": [
    "# Generate a bar plot to show how each feature correlates with the target variable 'Class'.\n",
    "x.plot.bar(figsize=(16, 9), title=\"Correlation Of Features With Target Variable\", grid=True)"
   ]
  },
  {
   "cell_type": "code",
   "execution_count": null,
   "metadata": {
    "colab": {
     "base_uri": "https://localhost:8080/",
     "height": 817
    },
    "id": "Q-_oJoJFpbWa",
    "outputId": "9012f09a-9992-401c-c895-5509216c4922"
   },
   "outputs": [],
   "source": [
    "# The figure size is set to 16x9 inches for better readability\n",
    "plt.figure(figsize=(16, 9))\n",
    "\n",
    "# Create a heatmap to visualize the correlation matrix of the dataset\n",
    "sns.heatmap(df.corr())"
   ]
  },
  {
   "cell_type": "code",
   "execution_count": null,
   "metadata": {
    "colab": {
     "base_uri": "https://localhost:8080/",
     "height": 206
    },
    "id": "gIWBThREpbYu",
    "outputId": "9d24f031-c65f-420f-85ba-d2837f329db7"
   },
   "outputs": [],
   "source": [
    "# Calculate the correlation coefficients between 'Class' and all columns\n",
    "y = df.corr()['Class']\n",
    "\n",
    "# Create a copy of the original DataFrame to avoid modifying it directly\n",
    "df2 = df.copy()\n",
    "\n",
    "# Drop features from df2 that have an absolute correlation with 'Class' less than 0.13 (weak correlation)\n",
    "for i in df.columns:\n",
    "    if abs(y[i]) < 0.13:\n",
    "        df2.drop(columns=[i], inplace=True)\n",
    "\n",
    "# Display the first few rows of the DataFrame\n",
    "df2.head()"
   ]
  },
  {
   "cell_type": "code",
   "execution_count": null,
   "metadata": {
    "colab": {
     "base_uri": "https://localhost:8080/",
     "height": 777
    },
    "id": "MheQSjDSmJu7",
    "outputId": "2f1e9ec6-e6cd-407d-bcdd-b317deeb49c7"
   },
   "outputs": [],
   "source": [
    "# The figure size is set to 16x9 inches for better readability\n",
    "plt.figure(figsize=(16, 9))\n",
    "\n",
    "# Generate a heatmap to visualize the correlation matrix of the DataFrame\n",
    "sns.heatmap(df2.corr(), annot=True)"
   ]
  },
  {
   "cell_type": "markdown",
   "metadata": {
    "id": "IcrQ9I-qtNHJ"
   },
   "source": [
    "The heatmap shows how each feature in df2 correlates with the Class column, which indicates fraud (1) or non-fraud (0).\n",
    "\n",
    "In the heatmap:\n",
    "\n",
    "\n",
    "*  Values closer to 1 or -1 indicate a strong positive or negative correlation with Class.\n",
    "* Features that remain in df2 are the most relevant ones for identifying fraud, based on correlation.\n",
    "\n",
    "\n",
    "\n",
    "\n"
   ]
  },
  {
   "cell_type": "code",
   "execution_count": null,
   "metadata": {
    "colab": {
     "base_uri": "https://localhost:8080/",
     "height": 807
    },
    "id": "pJeGxaj3mJxB",
    "outputId": "d747d11a-6115-4511-a327-7aac997fb163"
   },
   "outputs": [],
   "source": [
    "# Get correlation of first 9 features with 'Class'\n",
    "x = df2.corr()['Class'][:9]\n",
    "\n",
    "# Plot bar chart of these correlations\n",
    "x.plot.bar(figsize=(16, 9), title=\"Top Correlated Features With The Target Variable\", grid=True)"
   ]
  },
  {
   "cell_type": "markdown",
   "metadata": {
    "id": "7O58Fq_S20YJ"
   },
   "source": [
    "# **Handling Data Imbalance**\n",
    "\n",
    "The dataset is highly imbalanced (majority class 0), which can mislead models. Oversampling may cause overfitting due to synthetic data. Downsampling is preferred—it balances classes by reducing majority samples, helping models learn both classes better. Train on balanced data, test on real-world (imbalanced) data for reliable evaluation.\n",
    "\n",
    "**Confusion matrix for no sampling:-**\n",
    "\n",
    "\n",
    "![Screenshot 2025-04-07 at 9.06.17 PM.png](data:image/png;base64,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)\n",
    "\n",
    "\n",
    "**Confusion Matrix(Oversampling (SMOTE)):**\n",
    "\n",
    "\n",
    "![Screenshot 2025-04-07 at 9.09.00 PM.png](data:image/png;base64,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)\n"
   ]
  },
  {
   "cell_type": "code",
   "execution_count": null,
   "metadata": {
    "colab": {
     "base_uri": "https://localhost:8080/",
     "height": 206
    },
    "id": "wWWuQGVetyDe",
    "outputId": "ffb4efb5-1434-4b46-a9b6-3619b70160b5"
   },
   "outputs": [],
   "source": [
    "from imblearn.under_sampling import RandomUnderSampler\n",
    "\n",
    "# Split the dataset into input features and target variable\n",
    "X = df2.drop(columns='Class')\n",
    "y = df2['Class']\n",
    "\n",
    "# Create an instance of RandomUnderSampler with a fixed random state for reproducibility\n",
    "undersampler = RandomUnderSampler(random_state=42)\n",
    "\n",
    "# Apply undersampling to balance the class distribution\n",
    "X_downsampled, y_downsampled = undersampler.fit_resample(X, y)\n",
    "\n",
    "# Combine the resampled features and target into a new DataFrame\n",
    "downsampled_df = pd.DataFrame(X_downsampled, columns=X.columns)\n",
    "downsampled_df['Class'] = y_downsampled\n",
    "\n",
    "# Display the first few rows of the downsampled dataset\n",
    "downsampled_df.head()\n"
   ]
  },
  {
   "cell_type": "code",
   "execution_count": null,
   "metadata": {
    "colab": {
     "base_uri": "https://localhost:8080/"
    },
    "id": "GVxMw44HtyMo",
    "outputId": "cff3134d-bb07-4111-c45d-1684eb926c3a"
   },
   "outputs": [],
   "source": [
    "print(\"Shape of the downsampled DataFrame:\", downsampled_df.shape)"
   ]
  },
  {
   "cell_type": "code",
   "execution_count": null,
   "metadata": {
    "colab": {
     "base_uri": "https://localhost:8080/",
     "height": 467
    },
    "id": "PlmoztxctyQ_",
    "outputId": "a8e4d0b0-2e60-4fe6-d24f-7d29e60ce2b0"
   },
   "outputs": [],
   "source": [
    "# Generate a count plot to visualize the distribution of classes in the 'Class' column of the downsampled DataFrame downsampled_df\n",
    "sns.countplot(x='Class', data=downsampled_df)"
   ]
  },
  {
   "cell_type": "code",
   "execution_count": null,
   "metadata": {
    "colab": {
     "base_uri": "https://localhost:8080/",
     "height": 467
    },
    "id": "3kPCKlzgtyTH",
    "outputId": "afe0ef83-a49b-4453-c0fb-8ae5529d35f5"
   },
   "outputs": [],
   "source": [
    "# Plotting using seaborn scatterplot\n",
    "# This helps you visualize how well-separated the classes are in this 2D projection.\n",
    "sns.scatterplot(x='V11', y='V17', hue='Class', data=df2)"
   ]
  },
  {
   "cell_type": "markdown",
   "metadata": {
    "id": "P2jqc5LP9nhL"
   },
   "source": [
    "\n",
    "# **Outliers**\n",
    "\n",
    "**Outliers are data points that differ significantly from the rest of the data in a dataset. They are unusually high or low values that deviate from the overall pattern or trend of the data.**"
   ]
  },
  {
   "cell_type": "code",
   "execution_count": null,
   "metadata": {
    "colab": {
     "base_uri": "https://localhost:8080/",
     "height": 1000
    },
    "id": "ROdzZsQMtyVK",
    "outputId": "333ceaca-0f06-413a-e106-310ef8e5b102"
   },
   "outputs": [],
   "source": [
    "import warnings\n",
    "\n",
    "# Suppress all warning messages\n",
    "warnings.filterwarnings('ignore')\n",
    "\n",
    "# Generate pairwise scatter plots for all features, colored by 'Class'\n",
    "sns.pairplot(data=downsampled_df, hue='Class')"
   ]
  },
  {
   "cell_type": "code",
   "execution_count": null,
   "metadata": {
    "id": "4t1ynU_CtyXS"
   },
   "outputs": [],
   "source": [
    "from sklearn.model_selection import train_test_split\n",
    "from sklearn.utils import resample\n",
    "from sklearn.metrics import classification_report, confusion_matrix\n",
    "\n",
    "# Separate features and target from the original dataset\n",
    "X = df2.drop(columns='Class')\n",
    "y = df2['Class']\n",
    "\n",
    "# Step 1: Stratified train-test split to maintain class balance in both sets\n",
    "X_train_orig, X_test_orig, y_train_orig, y_test_orig = train_test_split(\n",
    "    X, y, test_size=0.2, stratify=y, random_state=42\n",
    ")\n",
    "\n",
    "# Step 2: Combine training features and labels for downsampling\n",
    "train_data = pd.concat([X_train_orig, y_train_orig], axis=1)\n",
    "\n",
    "# Separate majority and minority classes\n",
    "majority_class = train_data[train_data['Class'] == 0]\n",
    "minority_class = train_data[train_data['Class'] == 1]\n",
    "\n",
    "# Downsample the majority class to match the minority class count\n",
    "majority_downsampled = resample(\n",
    "    majority_class,\n",
    "    replace=False,                      # No replacement\n",
    "    n_samples=len(minority_class),     # Match minority count\n",
    "    random_state=42                    # For reproducibility\n",
    ")\n",
    "\n",
    "# Step 3: Combine the balanced classes\n",
    "downsampled_train_data = pd.concat([majority_downsampled, minority_class])\n",
    "\n",
    "# Shuffle the downsampled training data (optional but recommended)\n",
    "downsampled_train_data = downsampled_train_data.sample(frac=1, random_state=42).reset_index(drop=True)\n",
    "\n",
    "# Separate features and labels for training\n",
    "X_train_downsampled = downsampled_train_data.drop(columns='Class')\n",
    "y_train_downsampled = downsampled_train_data['Class']"
   ]
  },
  {
   "cell_type": "code",
   "execution_count": null,
   "metadata": {
    "colab": {
     "base_uri": "https://localhost:8080/"
    },
    "id": "Xi_TX3-ZtyZp",
    "outputId": "f892981c-789f-4687-9dd6-589745e9b201"
   },
   "outputs": [],
   "source": [
    "#LazyPredict is a super handy Python library that\n",
    "#lets you quickly compare the performance of many machine learning models without writing a ton of code for each one.\n",
    "!pip install lazypredict"
   ]
  },
  {
   "cell_type": "code",
   "execution_count": null,
   "metadata": {
    "colab": {
     "base_uri": "https://localhost:8080/",
     "height": 1000,
     "referenced_widgets": [
      "2a1026b8ba1e41a3b67dab054b89c34f",
      "35743d584d9b4140bf8707e5670b6b76",
      "1e3d6995d86442ad96727ea0e5ce0455",
      "3846b96f36bb49aaadb5a324fb36ab3c",
      "35206b2bcd31450c9dfdafa085154898",
      "1446454ccee14d97869dc6bcebcbffac",
      "a5623018dd044985a21770d60a389fa5",
      "2820b39fc23349e3814e6d41acee73e2",
      "95acdd20603a454095bac8276983e819",
      "e34967dc9e8b47f98554e021bd6cea56",
      "341e9abc92704b3d87d2edfafa4d958b"
     ]
    },
    "id": "bC2W4ScLtyb8",
    "outputId": "a980dafa-f56c-4e11-ba54-3c96e058c707"
   },
   "outputs": [],
   "source": [
    "from lazypredict.Supervised import LazyClassifier\n",
    "\n",
    "# Step 4: Initialize LazyClassifier with a fixed random state\n",
    "lazy_clf = LazyClassifier(random_state=42, verbose=0)\n",
    "\n",
    "# Train models on the downsampled training data and evaluate on the original test set\n",
    "models_summary, predictions = lazy_clf.fit(\n",
    "    X_train_downsampled, X_test_orig, y_train_downsampled, y_test_orig\n",
    ")\n",
    "\n",
    "# Display model performance metrics\n",
    "print(\"Model Performance Summary:\")\n",
    "models_summary\n"
   ]
  },
  {
   "cell_type": "markdown",
   "metadata": {
    "id": "WzKN058S-ds2"
   },
   "source": [
    "We use BernoulliNB, NuSVC, and NearestCentroid to compare different algorithm types on fraud detection. These models are simple, fast, and work well with high-dimensional or imbalanced data, making them ideal for benchmarking performance on the downsampled dataset.\n",
    "\n",
    "1.⁠ ⁠✅ Bernoulli Naive Bayes\n",
    "F1 Score: 1.00\n",
    "\n",
    "Balanced Accuracy: 0.93\n",
    "\n",
    "Time Taken: 0.17s\n",
    "\n",
    "\n",
    "2.⁠ ⁠✅ NuSVC (Support Vector Machine variant)\n",
    "F1 Score: 1.00\n",
    "\n",
    "Balanced Accuracy: 0.92\n",
    "\n",
    "Time Taken: 5.11s\n",
    "\n",
    "\n",
    "3.⁠ ⁠✅ NearestCentroid\n",
    "F1 Score: 1.00\n",
    "\n",
    "Balanced Accuracy: 0.90\n",
    "\n",
    "Time Taken: 0.14s\n",
    "\n"
   ]
  },
  {
   "cell_type": "code",
   "execution_count": null,
   "metadata": {
    "colab": {
     "base_uri": "https://localhost:8080/"
    },
    "id": "Ej8ldXpA7u4Y",
    "outputId": "dddf569e-973f-44d5-ae80-4f6850e5743f"
   },
   "outputs": [],
   "source": [
    "from sklearn.naive_bayes import BernoulliNB\n",
    "from sklearn.svm import NuSVC\n",
    "from sklearn.neighbors import NearestCentroid\n",
    "from sklearn.metrics import f1_score\n",
    "\n",
    "# Define and initialize the models\n",
    "models = {\n",
    "    \"Bernoulli Naive Bayes\": BernoulliNB(),\n",
    "    \"Nu-Support Vector Classifier\": NuSVC(probability=True),\n",
    "    \"Nearest Centroid\": NearestCentroid()\n",
    "}\n",
    "\n",
    "# Dictionary to store F1 scores\n",
    "f1_scores = {}\n",
    "\n",
    "# Train and evaluate each model\n",
    "for model_name, model in models.items():\n",
    "    model.fit(X_train_downsampled, y_train_downsampled)       # Train the model\n",
    "    y_pred = model.predict(X_test_orig)                       # Make predictions on test set\n",
    "    f1 = f1_score(y_test_orig, y_pred, pos_label=1)           # Compute F1 score for the positive class\n",
    "    f1_scores[model_name] = f1\n",
    "\n",
    "# Display results\n",
    "print(\"F1 Scores (for Class = 1):\")\n",
    "for model_name, score in f1_scores.items():\n",
    "    print(f\"{model_name}: {score:.4f}\")\n"
   ]
  },
  {
   "cell_type": "markdown",
   "metadata": {
    "id": "U_y6xNVP-_T9"
   },
   "source": [
    "From the F1 scores as output above, our winner is NearestCentroid.\n",
    "The Nearest Centroid Classifier is a simple and fast classification algorithm. It works by calculating the mean (centroid) of each class in the training data, and then assigns new samples to the class whose centroid is closest (Euclidean distance)."
   ]
  },
  {
   "cell_type": "code",
   "execution_count": null,
   "metadata": {
    "colab": {
     "base_uri": "https://localhost:8080/",
     "height": 743
    },
    "id": "vtlNdPXc7u6c",
    "outputId": "5c034d23-8858-437f-b00b-80940121af5e"
   },
   "outputs": [],
   "source": [
    "from sklearn.neighbors import NearestCentroid\n",
    "from sklearn.metrics import classification_report, confusion_matrix\n",
    "import seaborn as sns\n",
    "import matplotlib.pyplot as plt\n",
    "\n",
    "\n",
    "# Initialize the NearestCentroid model\n",
    "FRAUDFIGHTER = NearestCentroid()\n",
    "\n",
    "# Fit the model on the downsampled training data\n",
    "FRAUDFIGHTER.fit(X_train_downsampled, y_train_downsampled)\n",
    "\n",
    "# Predict on the original test data\n",
    "y_pred = FRAUDFIGHTER.predict(X_test_orig)\n",
    "\n",
    "# Generate classification report\n",
    "report = classification_report(y_test_orig, y_pred)\n",
    "print(\"Classification Report:\\n\", report)\n",
    "\n",
    "# Generate confusion matrix\n",
    "conf_matrix = confusion_matrix(y_test_orig, y_pred)\n",
    "\n",
    "# Plot the confusion matrix\n",
    "plt.figure(figsize=(8, 6))\n",
    "sns.heatmap(conf_matrix, annot=True, fmt='d', cmap='Blues',\n",
    "            xticklabels=['Non-Fraud', 'Fraud'],\n",
    "            yticklabels=['Non-Fraud', 'Fraud'])\n",
    "plt.xlabel('Predicted')\n",
    "plt.ylabel('Actual')\n",
    "plt.title('Confusion Matrix')\n",
    "plt.show()\n"
   ]
  },
  {
   "cell_type": "markdown",
   "metadata": {
    "id": "Ah_ebcEiEb0A"
   },
   "source": [
    "# Permutation Importance\n",
    "\n",
    "Permutation importance measures the change in a model’s performance when a single feature's values are randomly shuffled.\n",
    "The idea is simple:\n",
    "\n",
    "If shuffling a feature drops performance significantly, it means the model relied heavily on that feature and hence we cannot drop that feature.\n",
    "\n",
    "**Importance=Baseline score−Shuffled score**"
   ]
  },
  {
   "cell_type": "code",
   "execution_count": null,
   "metadata": {
    "colab": {
     "base_uri": "https://localhost:8080/",
     "height": 914
    },
    "id": "m4PYpjYN7u8l",
    "outputId": "0ff1298b-d9f4-4074-a75b-bbcdaf194bfa"
   },
   "outputs": [],
   "source": [
    "import pandas as pd\n",
    "import matplotlib.pyplot as plt\n",
    "import seaborn as sns\n",
    "from sklearn.inspection import permutation_importance\n",
    "\n",
    "# Compute permutation importance\n",
    "result = permutation_importance(model, X_test_orig, y_test_orig, n_repeats=10, random_state=42, scoring='f1')\n",
    "\n",
    "# Get mean and standard deviation of importance values\n",
    "importance = result.importances_mean\n",
    "std = result.importances_std\n",
    "\n",
    "# Create a DataFrame for easy plotting\n",
    "importance_df = pd.DataFrame({\n",
    "    'Feature': X_test_orig.columns,\n",
    "    'Importance': importance,\n",
    "    'Std Dev': std\n",
    "}).sort_values(by='Importance', ascending=False)\n",
    "\n",
    "# Print the DataFrame\n",
    "print(\"Feature Importances:\\n\", importance_df)\n",
    "\n",
    "# Plot feature importances without error bars\n",
    "plt.figure(figsize=(10, 8))\n",
    "sns.barplot(x='Importance', y='Feature', data=importance_df, palette='viridis')\n",
    "plt.xlabel('Mean Importance')\n",
    "plt.ylabel('Feature')\n",
    "plt.title('Permutation Importance of Features')\n",
    "plt.show()"
   ]
  },
  {
   "cell_type": "markdown",
   "metadata": {
    "id": "bumMmG1ZSbbv"
   },
   "source": [
    "# **GENETIC ALGORITHM**\n",
    "We are now further implementing Genetic Algorithm in the model to improve the accuracy, recall, f1 score etc.\n"
   ]
  },
  {
   "cell_type": "code",
   "execution_count": null,
   "metadata": {
    "colab": {
     "base_uri": "https://localhost:8080/"
    },
    "id": "1e-0x-Qn7u-4",
    "outputId": "f5cef29f-3637-42b5-e566-d1c372c10077"
   },
   "outputs": [],
   "source": [
    "#Distributed Evolutionary Algorithms in Python. It’s a powerful and flexible library designed for evolutionary computing, including:Genetic algorithms (GAs)\n",
    "!pip install deap"
   ]
  },
  {
   "cell_type": "code",
   "execution_count": null,
   "metadata": {
    "id": "kXFd4SI37vDT"
   },
   "outputs": [],
   "source": [
    "import numpy as np\n",
    "import tensorflow as tf\n",
    "from tensorflow import keras\n",
    "from tensorflow.keras.models import Sequential\n",
    "from tensorflow.keras.layers import Dense, Dropout\n",
    "from sklearn.model_selection import train_test_split\n",
    "from sklearn.preprocessing import StandardScaler\n",
    "from sklearn.metrics import accuracy_score, recall_score, f1_score, classification_report\n",
    "from deap import base, creator, tools, algorithms\n",
    "import random\n",
    "import warnings\n",
    "warnings.filterwarnings('ignore')"
   ]
  },
  {
   "cell_type": "code",
   "execution_count": null,
   "metadata": {
    "id": "PxxFZGj17vFc"
   },
   "outputs": [],
   "source": [
    "# -------------------------------\n",
    "# Use cleaned and balanced DataFrame\n",
    "X = downsampled_df.drop(columns=['Class']).values  # or use df2 (if not balanced)\n",
    "y = downsampled_df['Class'].values\n",
    "feature_count = X.shape[1]\n",
    "# -------------------------------"
   ]
  },
  {
   "cell_type": "code",
   "execution_count": null,
   "metadata": {
    "id": "a81diyyo7vHu"
   },
   "outputs": [],
   "source": [
    "# Train-test split\n",
    "X_train, X_test, y_train, y_test = train_test_split(\n",
    "    X, y, test_size=0.2, random_state=42, stratify=y)\n",
    "\n",
    "# Standardize\n",
    "scaler = StandardScaler()\n",
    "X_train = scaler.fit_transform(X_train)\n",
    "X_test = scaler.transform(X_test)"
   ]
  },
  {
   "cell_type": "code",
   "execution_count": null,
   "metadata": {
    "id": "3AlqDb1U7vJ3"
   },
   "outputs": [],
   "source": [
    "# Genetic Algorithm parameters\n",
    "POP_SIZE = 20\n",
    "NGEN = 5\n",
    "CX_PB = 0.5\n",
    "MUT_PB = 0.2"
   ]
  },
  {
   "cell_type": "code",
   "execution_count": null,
   "metadata": {
    "id": "B9ONxK7eJ0Bc"
   },
   "outputs": [],
   "source": [
    "# GA setup for multi-objective (accuracy + F1)\n",
    "creator.create(\"FitnessMulti\", base.Fitness, weights=(1.0, 1.0))\n",
    "creator.create(\"Individual\", list, fitness=creator.FitnessMulti)\n",
    "toolbox = base.Toolbox()\n",
    "toolbox.register(\"attr_bool\", random.randint, 0, 1)\n",
    "toolbox.register(\"individual\", tools.initRepeat, creator.Individual, toolbox.attr_bool, n=feature_count)\n",
    "toolbox.register(\"population\", tools.initRepeat, list, toolbox.individual)"
   ]
  },
  {
   "cell_type": "code",
   "execution_count": null,
   "metadata": {
    "id": "kCiqqrX0NL9y"
   },
   "outputs": [],
   "source": [
    "# Fitness function\n",
    "def evaluate(individual):\n",
    "    selected_features = [i for i in range(len(individual)) if individual[i] == 1]\n",
    "    if len(selected_features) == 0:\n",
    "        return (0.0, 0.0)\n",
    "\n",
    "    try:\n",
    "        X_train_sel = X_train[:, selected_features]\n",
    "        X_test_sel = X_test[:, selected_features]\n",
    "\n",
    "        model = Sequential([\n",
    "            Dense(64, activation='relu', input_shape=(len(selected_features),)),\n",
    "            Dropout(0.2),\n",
    "            Dense(32, activation='relu'),\n",
    "            Dropout(0.2),\n",
    "            Dense(16, activation='relu'),\n",
    "            Dense(1, activation='sigmoid')\n",
    "        ])\n",
    "        model.compile(optimizer='adam', loss='binary_crossentropy', metrics=['accuracy'])\n",
    "        model.fit(X_train_sel, y_train, epochs=20, batch_size=32, verbose=0)\n",
    "\n",
    "        y_pred = (model.predict(X_test_sel) > 0.5).astype(\"int32\")\n",
    "        acc = accuracy_score(y_test, y_pred)\n",
    "        f1 = f1_score(y_test, y_pred)\n",
    "        return (acc, f1)\n",
    "    except Exception as e:\n",
    "        print(f\"Error during evaluation: {e}\")\n",
    "        return (0.0, 0.0)"
   ]
  },
  {
   "cell_type": "code",
   "execution_count": null,
   "metadata": {
    "id": "n1pVnxkzNMAG"
   },
   "outputs": [],
   "source": [
    "#Register operators\n",
    "toolbox.register(\"mate\", tools.cxTwoPoint)\n",
    "toolbox.register(\"mutate\", tools.mutFlipBit, indpb=0.05)\n",
    "toolbox.register(\"select\", tools.selNSGA2)\n",
    "toolbox.register(\"evaluate\", evaluate)"
   ]
  },
  {
   "cell_type": "code",
   "execution_count": null,
   "metadata": {
    "colab": {
     "base_uri": "https://localhost:8080/"
    },
    "id": "2UNfB4bUNMCc",
    "outputId": "2c350a60-5fe5-4c2d-cc78-765d61a44144"
   },
   "outputs": [],
   "source": [
    "# Run GA\n",
    "population = toolbox.population(n=POP_SIZE)\n",
    "\n",
    "for gen in range(NGEN):\n",
    "    print(f\"\\nGeneration {gen + 1}\")\n",
    "    offspring = algorithms.varAnd(population, toolbox, cxpb=CX_PB, mutpb=MUT_PB)\n",
    "    fits = list(map(toolbox.evaluate, offspring))\n",
    "\n",
    "    for ind, fit in zip(offspring, fits):\n",
    "        if not isinstance(fit, tuple) or len(fit) != 2:\n",
    "            print(f\"Invalid fitness: {fit}, assigning (0.0, 0.0)\")\n",
    "            ind.fitness.values = (0.0, 0.0)\n",
    "        else:\n",
    "            ind.fitness.values = fit\n",
    "\n",
    "    # Filter valid individuals before selection\n",
    "    valid_individuals = [ind for ind in offspring + population if hasattr(ind.fitness, 'values') and isinstance(ind.fitness.values, tuple) and len(ind.fitness.values) == 2]\n",
    "\n",
    "    # Ensure population size is preserved\n",
    "    while len(valid_individuals) < POP_SIZE:\n",
    "        dummy = toolbox.individual()\n",
    "        dummy.fitness.values = (0.0, 0.0)\n",
    "        valid_individuals.append(dummy)\n",
    "\n",
    "    population[:] = toolbox.select(valid_individuals, k=POP_SIZE)"
   ]
  },
  {
   "cell_type": "code",
   "execution_count": null,
   "metadata": {
    "colab": {
     "base_uri": "https://localhost:8080/"
    },
    "id": "YhqxZ5KeNMIf",
    "outputId": "0f4951d0-4834-4c07-d83b-299e270c8966"
   },
   "outputs": [],
   "source": [
    "# Get best individual based on combined score (acc + f1)\n",
    "best_individual = tools.selBest(population, k=1)[0]\n",
    "selected_features = [i for i in range(len(best_individual)) if best_individual[i] == 1]\n",
    "print(f\"\\nBest Selected Features (indices): {selected_features}\")"
   ]
  },
  {
   "cell_type": "code",
   "execution_count": null,
   "metadata": {
    "colab": {
     "base_uri": "https://localhost:8080/"
    },
    "id": "505jCcHhNMKh",
    "outputId": "385a31c0-7972-4765-9bae-58f81a112210"
   },
   "outputs": [],
   "source": [
    "# Final model training on best feature subset\n",
    "X_train_sel = X_train[:, selected_features]\n",
    "X_test_sel = X_test[:, selected_features]\n",
    "\n",
    "model = Sequential([\n",
    "    Dense(64, activation='relu', input_shape=(len(selected_features),)),\n",
    "    Dropout(0.2),\n",
    "    Dense(32, activation='relu'),\n",
    "    Dropout(0.2),\n",
    "    Dense(16, activation='relu'),\n",
    "    Dense(1, activation='sigmoid')\n",
    "])\n",
    "model.compile(optimizer='adam', loss='binary_crossentropy', metrics=['accuracy'])\n",
    "model.fit(X_train_sel, y_train, epochs=5, batch_size=32, validation_data=(X_test_sel, y_test), verbose=0)"
   ]
  },
  {
   "cell_type": "code",
   "execution_count": null,
   "metadata": {
    "colab": {
     "base_uri": "https://localhost:8080/"
    },
    "id": "9hrDkfj6NMMn",
    "outputId": "9c0d63b6-e804-45ec-f610-72a6bf091c40"
   },
   "outputs": [],
   "source": [
    "# Evaluation\n",
    "y_pred = (model.predict(X_test_sel) > 0.5).astype(\"int32\")\n",
    "accuracy = accuracy_score(y_test, y_pred)\n",
    "recall = recall_score(y_test, y_pred)\n",
    "f1 = f1_score(y_test, y_pred)\n",
    "\n",
    "print(f\"\\nFinal Test Accuracy: {accuracy:.4f}\")\n",
    "print(f\"Recall: {recall:.4f}\")\n",
    "print(f\"F1 Score: {f1:.4f}\")\n",
    "print(\"\\nClassification Report:\")\n",
    "print(classification_report(y_test, y_pred))"
   ]
  }
 ],
 "metadata": {
  "colab": {
   "provenance": []
  },
  "kernelspec": {
   "display_name": "Python 3",
   "name": "python3"
  },
  "language_info": {
   "name": "python"
  }
 },
 "nbformat": 4,
 "nbformat_minor": 0
}
